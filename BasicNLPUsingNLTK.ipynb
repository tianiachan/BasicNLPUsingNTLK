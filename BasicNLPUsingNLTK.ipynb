{
 "cells": [
  {
   "cell_type": "code",
   "execution_count": 5,
   "metadata": {},
   "outputs": [
    {
     "name": "stdout",
     "output_type": "stream",
     "text": [
      "Once upon a time there was an old mother pig who had three little pigs and not enough food to feed them. So when they were old enough, she sent them out into the world to seek their fortunes.\n",
      "\n",
      "The first little pig was very lazy. He didn't want to work at all and he built his house out of straw. The second little pig worked a little bit harder but he was somewhat lazy too and he built his house out of sticks. Then, they sang and danced and played together the rest of the day.\n",
      "\n",
      "The third little pig worked hard all day and built his house with bricks. It was a sturdy house complete with a fine fireplace and chimney. It looked like it could withstand the strongest winds.\n"
     ]
    }
   ],
   "source": [
    "#open text file containing text\n",
    "sampleTextfile = open(\"Natural_Language_Processing_Text.txt\")\n",
    "\n",
    "#read it in\n",
    "sampleText = sampleTextfile.read()\n",
    "\n",
    "#print out the text\n",
    "print(sampleText)"
   ]
  },
  {
   "cell_type": "code",
   "execution_count": 16,
   "metadata": {},
   "outputs": [],
   "source": [
    "#declare libraries\n",
    "import nltk\n",
    "#tokenize sentences and words\n",
    "from nltk import sent_tokenize as st\n",
    "from nltk import word_tokenize as wt\n",
    "from nltk.probability import FreqDist as fd\n",
    "#library for plot\n",
    "import matplotlib.pyplot as plt"
   ]
  },
  {
   "cell_type": "code",
   "execution_count": 8,
   "metadata": {},
   "outputs": [
    {
     "name": "stderr",
     "output_type": "stream",
     "text": [
      "[nltk_data] Downloading package punkt to\n",
      "[nltk_data]     C:\\Users\\tiania\\AppData\\Roaming\\nltk_data...\n",
      "[nltk_data]   Unzipping tokenizers\\punkt.zip.\n"
     ]
    },
    {
     "data": {
      "text/plain": [
       "True"
      ]
     },
     "execution_count": 8,
     "metadata": {},
     "output_type": "execute_result"
    }
   ],
   "source": [
    "#needed to download punkt in order to run on new computer\n",
    "#nltk.download('punkt')"
   ]
  },
  {
   "cell_type": "code",
   "execution_count": 10,
   "metadata": {},
   "outputs": [
    {
     "data": {
      "text/plain": [
       "['Once',\n",
       " 'upon',\n",
       " 'a',\n",
       " 'time',\n",
       " 'there',\n",
       " 'was',\n",
       " 'an',\n",
       " 'old',\n",
       " 'mother',\n",
       " 'pig',\n",
       " 'who',\n",
       " 'had',\n",
       " 'three',\n",
       " 'little',\n",
       " 'pigs',\n",
       " 'and',\n",
       " 'not',\n",
       " 'enough',\n",
       " 'food',\n",
       " 'to',\n",
       " 'feed',\n",
       " 'them',\n",
       " '.',\n",
       " 'So',\n",
       " 'when',\n",
       " 'they',\n",
       " 'were',\n",
       " 'old',\n",
       " 'enough',\n",
       " ',',\n",
       " 'she',\n",
       " 'sent',\n",
       " 'them',\n",
       " 'out',\n",
       " 'into',\n",
       " 'the',\n",
       " 'world',\n",
       " 'to',\n",
       " 'seek',\n",
       " 'their',\n",
       " 'fortunes',\n",
       " '.',\n",
       " 'The',\n",
       " 'first',\n",
       " 'little',\n",
       " 'pig',\n",
       " 'was',\n",
       " 'very',\n",
       " 'lazy',\n",
       " '.',\n",
       " 'He',\n",
       " 'did',\n",
       " \"n't\",\n",
       " 'want',\n",
       " 'to',\n",
       " 'work',\n",
       " 'at',\n",
       " 'all',\n",
       " 'and',\n",
       " 'he',\n",
       " 'built',\n",
       " 'his',\n",
       " 'house',\n",
       " 'out',\n",
       " 'of',\n",
       " 'straw',\n",
       " '.',\n",
       " 'The',\n",
       " 'second',\n",
       " 'little',\n",
       " 'pig',\n",
       " 'worked',\n",
       " 'a',\n",
       " 'little',\n",
       " 'bit',\n",
       " 'harder',\n",
       " 'but',\n",
       " 'he',\n",
       " 'was',\n",
       " 'somewhat',\n",
       " 'lazy',\n",
       " 'too',\n",
       " 'and',\n",
       " 'he',\n",
       " 'built',\n",
       " 'his',\n",
       " 'house',\n",
       " 'out',\n",
       " 'of',\n",
       " 'sticks',\n",
       " '.',\n",
       " 'Then',\n",
       " ',',\n",
       " 'they',\n",
       " 'sang',\n",
       " 'and',\n",
       " 'danced',\n",
       " 'and',\n",
       " 'played',\n",
       " 'together',\n",
       " 'the',\n",
       " 'rest',\n",
       " 'of',\n",
       " 'the',\n",
       " 'day',\n",
       " '.',\n",
       " 'The',\n",
       " 'third',\n",
       " 'little',\n",
       " 'pig',\n",
       " 'worked',\n",
       " 'hard',\n",
       " 'all',\n",
       " 'day',\n",
       " 'and',\n",
       " 'built',\n",
       " 'his',\n",
       " 'house',\n",
       " 'with',\n",
       " 'bricks',\n",
       " '.',\n",
       " 'It',\n",
       " 'was',\n",
       " 'a',\n",
       " 'sturdy',\n",
       " 'house',\n",
       " 'complete',\n",
       " 'with',\n",
       " 'a',\n",
       " 'fine',\n",
       " 'fireplace',\n",
       " 'and',\n",
       " 'chimney',\n",
       " '.',\n",
       " 'It',\n",
       " 'looked',\n",
       " 'like',\n",
       " 'it',\n",
       " 'could',\n",
       " 'withstand',\n",
       " 'the',\n",
       " 'strongest',\n",
       " 'winds',\n",
       " '.']"
      ]
     },
     "execution_count": 10,
     "metadata": {},
     "output_type": "execute_result"
    }
   ],
   "source": [
    "#tokenize sentence and words to prep for analysis\n",
    "sentences = st(sampleText)\n",
    "words = wt(sampleText)\n",
    "words"
   ]
  },
  {
   "cell_type": "code",
   "execution_count": 13,
   "metadata": {},
   "outputs": [
    {
     "data": {
      "text/plain": [
       "FreqDist({'.': 9, 'and': 7, 'little': 5, 'a': 4, 'was': 4, 'pig': 4, 'the': 4, 'house': 4, 'to': 3, 'out': 3, ...})"
      ]
     },
     "execution_count": 13,
     "metadata": {},
     "output_type": "execute_result"
    }
   ],
   "source": [
    "#find the frequency distribution of words\n",
    "freqdistText = fd(words)\n"
   ]
  },
  {
   "cell_type": "code",
   "execution_count": 15,
   "metadata": {},
   "outputs": [
    {
     "data": {
      "text/plain": [
       "[('.', 9),\n",
       " ('and', 7),\n",
       " ('little', 5),\n",
       " ('a', 4),\n",
       " ('was', 4),\n",
       " ('pig', 4),\n",
       " ('the', 4),\n",
       " ('house', 4),\n",
       " ('to', 3),\n",
       " ('out', 3)]"
      ]
     },
     "execution_count": 15,
     "metadata": {},
     "output_type": "execute_result"
    }
   ],
   "source": [
    "#find top 10 words\n",
    "freqdistText.most_common(10)"
   ]
  },
  {
   "cell_type": "code",
   "execution_count": 17,
   "metadata": {},
   "outputs": [
    {
     "data": {
      "image/png": "[encoded data removed]",
      "text/plain": [
       "<Figure size 432x288 with 1 Axes>"
      ]
     },
     "metadata": {
      "needs_background": "light"
     },
     "output_type": "display_data"
    },
    {
     "data": {
      "text/plain": [
       "<matplotlib.axes._subplots.AxesSubplot at 0x1f60de7cf48>"
      ]
     },
     "execution_count": 17,
     "metadata": {},
     "output_type": "execute_result"
    }
   ],
   "source": [
    "#plot out the top 10\n",
    "freqdistText.plot(10)"
   ]
  },
  {
   "cell_type": "code",
   "execution_count": null,
   "metadata": {},
   "outputs": [],
   "source": []
  }
 ],
 "metadata": {
  "kernelspec": {
   "display_name": "Python 3",
   "language": "python",
   "name": "python3"
  },
  "language_info": {
   "codemirror_mode": {
    "name": "ipython",
    "version": 3
   },
   "file_extension": ".py",
   "mimetype": "text/x-python",
   "name": "python",
   "nbconvert_exporter": "python",
   "pygments_lexer": "ipython3",
   "version": "3.7.6"
  }
 },
 "nbformat": 4,
 "nbformat_minor": 4
}
